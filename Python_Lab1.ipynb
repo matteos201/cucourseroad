{
  "cells": [
    {
      "cell_type": "markdown",
      "metadata": {
        "id": "view-in-github",
        "colab_type": "text"
      },
      "source": [
        "<a href=\"https://colab.research.google.com/github/matteos201/cucourseroad/blob/main/Python_Lab1.ipynb\" target=\"_parent\"><img src=\"https://colab.research.google.com/assets/colab-badge.svg\" alt=\"Open In Colab\"/></a>"
      ]
    },
    {
      "cell_type": "markdown",
      "metadata": {
        "id": "TLH2NCL-V8J_"
      },
      "source": [
        "# <a name=\"homework1\">Python Lab 1: Due Wednesday, January 29 at 11:59PM</a>\n",
        "\n",
        "---"
      ]
    },
    {
      "cell_type": "markdown",
      "metadata": {
        "id": "RZn_p3cGStM_"
      },
      "source": [
        "## <a name=\"HW1Inst\">Instructions</a>\n",
        "\n",
        "---\n",
        "\n",
        "1. <font color=\"tomato\">Either click the COPY TO DRIVE button or use the menu File/Save/Save a Copy to save your own version of the notebook in your own folder in Google Drive.</font>\n",
        "\n",
        "  - If you do not have a Google account, you will need to create a Google account in order to create your own individual copy of this notebook.\n",
        "  - By default, the notebook will be saved in a folder named **Colab Notebooks** in your drive.\n",
        "  - Feel free to name and store the notebook wherever you like!\n",
        "\n",
        "2. <font color=\"mediumseagreen\">After you have copied the notebook into your Drive, you can begin editing and saving your work.</font>\n",
        "\n",
        "\n",
        "**Upload your completed assignment into Canvas as a Google Colab (or Jupyter) Notebook with file extension `.ipynb`.**\n",
        "\n",
        "Upload your file into the Python Lab 1 assignment in Canvas before <font color=\"dodgerblue\">**11:59PM on Tuesday, January 23.**</font>\n",
        "\n",
        "**You must provide supporting work for your all of your answers.**\n",
        "\n",
        "  - <font color=\"dodgerblue\">That work will include using Python code cells.</font>\n",
        "    - **Feel free to insert as much Python code as you like.**\n",
        "    - **Code with incomplete or missing explanations of why the output is useful may not receive full credit.**\n",
        "  - <font color=\"dodgerblue\">Your work will also involve typing matrices in text cells with LaTeX.</font>\n",
        "\n",
        "\n",
        "## <a name=\"policy\">Important Academic Policies</a>\n",
        "\n",
        "---\n",
        "\n",
        "- **Be your own work.** Though you may collaborate with others, everyone is responsible for writing up the work in their own way using their own methods. Plagiarism of any form is not tolerated.\n",
        "- **Be complete.** You must provide all work and/or explanations needed to find the solution. Answers with insufficient or incomplete supporting work may lose credit.\n",
        "- **Adhere to the Code of Academic Honesty.**\n",
        "- **Be clearly written (and legible if written).** Your solution to a problem must be clear, written in complete sentences. You may lose credit for work that is unclear or hard to follow.\n",
        "\n",
        "## <font color=\"dodgerblue\">Let me know if you need help, and **GOOD LUCK!!!**</font>\n",
        "\n",
        "----"
      ]
    },
    {
      "cell_type": "markdown",
      "metadata": {
        "id": "Hxu7PmWczeu3"
      },
      "source": [
        "# <a name=\"Welcome\">Welcome to Colab and Python</a>\n",
        "\n",
        "---\n",
        "\n",
        "<font color=\"dodgerblue\">The goal of using Google Colaboratory (Colab) and Python this semester is to:</font>\n",
        "\n",
        "- <font color=\"mediumseagreen\">Serve as a gentle on ramp into programming.</font>\n",
        "  - Curious how to get started doing some basic programming in Python?\n",
        "  - Interested in exploring careers in computational math and data science?\n",
        "\n",
        "- <font color=\"mediumseagreen\">Serve as a tool for exploring mathematical ideas.</font>\n",
        "  - Discover patterns and relationships.\n",
        "  - Use graphical displays to investigate mathematical concepts.\n",
        "  - Develop and test conjectures.\n",
        "  - Explore results to help construct proofs.\n",
        "  - Confirm analytically derived results.\n",
        "  - Gain further insight and intuition.\n",
        "\n",
        "\n",
        "\n",
        "<font color=\"dodgerblue\">If this is your first time doing anything related to coding or programming, not a problem. In fact, the expectation is that students:</font>\n",
        "\n",
        "- Have never worked with a Google Colab notebook.\n",
        "- Have never written code in Python or any other language.\n",
        "- Do not know anything about LaTeX.\n",
        "\n",
        "\n",
        "<font color=\"mediumseagreen\">By the end of working on this notebook, **you will know something about Google Colab, Python, and LaTeX**!</font>\n",
        "\n",
        "\n"
      ]
    },
    {
      "cell_type": "markdown",
      "metadata": {
        "id": "v1E9Qg6WWkeV"
      },
      "source": [
        "# <a name=\"review\">Help Getting Started with Colab and Python</a>\n",
        "\n",
        "---\n",
        "\n",
        "It is not assumed you have prior experience with Colab and Python, however; **it is expected that you have first worked on the [Getting-Started-Colab-Python.ipynb](https://colab.research.google.com/drive/1HjrtnVfoV3SPei4UXmqEsXMONsX5pyOs?usp=sharing) notebook if this is your first time using Python and/or Colab.**\n",
        "\n",
        "There is a [YouTube playlist](https://www.youtube.com/playlist?list=PLNyILlFU1DRcH4xQdNEKTaCj9EjB8oAsu) to go along with the [Getting-Started-Colab-Python.ipynb](https://colab.research.google.com/drive/1HjrtnVfoV3SPei4UXmqEsXMONsX5pyOs?usp=sharing) notebook to help.\n",
        "\n",
        "<br>\n",
        "\n",
        "<font color=\"dodgerblue\">TIP: If you have any trouble working in Colab, do not hesitate to reach out to me (Johnathan) for help.</font>\n",
        "\n"
      ]
    },
    {
      "cell_type": "code",
      "execution_count": null,
      "metadata": {
        "id": "eue1XN5tYmk9"
      },
      "outputs": [],
      "source": [
        "######################################\n",
        "# Running this code cell will change\n",
        "# the default to \"pretty printing\"\n",
        "######################################\n",
        "from sympy import init_printing\n",
        "init_printing()"
      ]
    },
    {
      "cell_type": "markdown",
      "metadata": {
        "id": "Y6yiRAm33bHd"
      },
      "source": [
        "# <a name=\"google\">Question 0</a>\n",
        "\n",
        "---\n",
        "\n",
        "Your assignment will be graded in Google Colaboratory (we will score and add comments to your work). Your marked up work will be returned in a shared Google Drive folder (not in Canvas). Thus, we need to know the email that is attached to your Google account in order to return your work.\n",
        "\n",
        "\n",
        "- If you do not have a Google account, you will need to create a Google account in order to save your own work. Or follow instructions in the syllabus to do this locally.\n",
        "\n",
        "\n",
        "If you are using Colab, please enter your google email (example@gmail.com) or if you are editing locally, enter your university email.\n",
        "\n",
        "<br>\n",
        "\n",
        "<font color=\"dodgerblue\">**Email:**</font> ??\n",
        "\n"
      ]
    },
    {
      "cell_type": "markdown",
      "metadata": {
        "id": "JM_9qH2mZmTn"
      },
      "source": [
        "# <a name=\"hw1q1\">Question 1</a>\n",
        "\n",
        "---\n",
        "\n",
        "What is your birthday month and date?\n",
        "\n",
        "For example mine if your birthday is March 21:\n",
        "\n",
        "- Your birthday month is 3.\n",
        "- Your birthday date is 21.\n",
        "\n",
        "\n",
        "\n",
        "ENTER BIRTHDAY MONTH HERE: ??\n",
        "\n",
        "ENTER BIRTHDAY DATE HERE: ??"
      ]
    },
    {
      "cell_type": "markdown",
      "metadata": {
        "id": "RUlgk-KPcTvF"
      },
      "source": [
        "# <a name=\"hw1q2\">Question 2</a>\n",
        "\n",
        "---\n",
        "\n",
        "Consider the matrix $A$ given by\n",
        "\n",
        "$$\n",
        "A = \\begin{bmatrix}\n",
        "1 & 2 & 3 & 4 & 5 & 6 & 7  & 8\\\\\n",
        "9 & 10 & 11 & 12 & 13 & 14 & 15 & 16\\\\\n",
        "17 & 18 & 19 & 20 & 21 & 22 & 23 & 24\\\\\n",
        "25 & 26 & 27 & 28 & 29 & 30 & 31 & 32\n",
        "\\end{bmatrix}\n",
        "$$\n",
        "\n",
        "The matrix $A$ is entered using the `sym.Matrix()` function from the SymPy package. <font color=\"dodgerblue\">If you would like to use functions from the SymPy package, each time you begin a new Colab session, you will need to first import the SymPy package.</a>\n",
        "\n",
        "- In the first code cell below, we import the SymPy package.\n",
        "- In the second code cell, we store the matrix as `A`.\n",
        "- In the third code cell, we print the matrix `A` to the screen.\n",
        "- See the [how to video](https://youtu.be/g5Xi6tAVNF0) for more information about the `sym.Matrix()` function."
      ]
    },
    {
      "cell_type": "code",
      "execution_count": null,
      "metadata": {
        "id": "MGI-3U47Y77_"
      },
      "outputs": [],
      "source": [
        "# this is a comment\n",
        "# anything that appears after a # symbol is executed\n",
        "# type comments after the # symbol to help explain code\n",
        "\n",
        "import sympy as sym  # import the sympy package with abbreviation sym"
      ]
    },
    {
      "cell_type": "code",
      "execution_count": null,
      "metadata": {
        "id": "EB1buJtacj8P"
      },
      "outputs": [],
      "source": [
        "# Define the matrix A\n",
        "A = sym.Matrix([[1., 2., 3., 4., 5., 6., 7., 8.],\n",
        "     [9., 10., 11., 12., 13., 14., 15., 16.],\n",
        "     [17., 18., 19., 20., 21., 22., 23., 24.],\n",
        "     [25., 26., 27., 28., 29., 30., 31., 32.]])"
      ]
    },
    {
      "cell_type": "code",
      "execution_count": null,
      "metadata": {
        "id": "9oRZrJABckU9"
      },
      "outputs": [],
      "source": [
        "# print matrix A to screen\n",
        "A"
      ]
    },
    {
      "cell_type": "markdown",
      "metadata": {
        "id": "VVvg45K5bWuK"
      },
      "source": [
        "## <a name=\"hw1sol2\">Solution to Question 2</a>\n",
        "\n",
        "---\n",
        "\n",
        "1. What entry in matrix `A` corresponds to your birthday month? Replace both `??` in the first code cell below with the integers needed to extract the correct value for your birthday month from matrix `A`.\n",
        "\n",
        "2. What entry in matrix `A` corresponds to your birthday date? Replace both `??` in the first code cell with the integers needed to extract the correct value for your birthday date from matrix `A`.\n",
        "\n",
        "3. In the third code cell, you will print your answers to the screen. There is nothing to edit in the third code cell.\n",
        "  - The commands `int(month)` and `int(date)` will print your answers as integers instead of decimals.\n",
        "\n",
        "<font color=\"tomato\">CAUTION: Indexing in Python starts at 0! If you do not know what I mean by this, then see the [tutorial video on indexing](https://youtu.be/eCYfSrld98M) before attempting this question.</a>\n"
      ]
    },
    {
      "cell_type": "code",
      "execution_count": null,
      "metadata": {
        "id": "YsSkWEk0t8NA"
      },
      "outputs": [],
      "source": [
        "# Enter appropriate indices to extract birth month\n",
        "month = A[??, ??]"
      ]
    },
    {
      "cell_type": "code",
      "execution_count": null,
      "metadata": {
        "id": "AlIrYvJ9t8NA"
      },
      "outputs": [],
      "source": [
        "# Enter appropriate indices to extract birthday date\n",
        "date = A[??, ??]"
      ]
    },
    {
      "cell_type": "code",
      "execution_count": null,
      "metadata": {
        "id": "Df6Y_W5Gt8NB"
      },
      "outputs": [],
      "source": [
        "# Check your work below by printing the output\n",
        "print(\"My birth month is \", int(month),\n",
        "      \"\\n and my birth date is \", int(date))"
      ]
    },
    {
      "cell_type": "markdown",
      "metadata": {
        "id": "cHsOw__ce3Df"
      },
      "source": [
        "# <a name=\"hw1q3\">Question 3</a>\n",
        "\n",
        "---\n",
        "\n",
        "\n",
        "Solve the following system of linear equations by answering the questions below.\n",
        "\n",
        "$$\\begin{array}{rcl}\n",
        "3 x_2 - 6 x_3 + 6 x_4 + 4 x_5 &=& -5\\\\\n",
        "3 x_1 - 7 x_2 + 8 x_3 - 5 x_4 + 8 x_5 &=& 9\\\\\n",
        "3 x_1 - 9 x_2 + 12 x_3 - 9 x_4 + 6 x_5 &=& 15\n",
        "\\end{array}$$\n",
        "\n",
        "<br>\n",
        "\n",
        "<font color=\"mediumseagreen\">Note: If you are curious about the LaTeX code used to type the system of linear equations above, see the section [Systems of Equations with the `array` Environment](https://colab.research.google.com/drive/1voDDmLfHmRWzWQW5yiHfqYsjGPFqdovP) in the LaTeX-Quick-Reference.ipynb notebook.</font>\n"
      ]
    },
    {
      "cell_type": "markdown",
      "metadata": {
        "id": "_G9hKc1bgLhR"
      },
      "source": [
        "## <a name=\"hw3q3a\">Question 3a</a>\n",
        "\n",
        "---\n",
        "\n",
        "What is the corresponding augmented matrix for the system or linear equations above? Enter your answer by completing the LaTeX code in the solution below.\n"
      ]
    },
    {
      "cell_type": "markdown",
      "metadata": {
        "id": "7LLe_J9IgzMB"
      },
      "source": [
        "### <a name=\"hw1qsol3a\">Solution to Question 3a</a>\n",
        "\n",
        "---\n",
        "\n",
        "The augmented matrix is\n",
        "\n",
        "\n",
        "$$M = \\begin{bmatrix}\n",
        "?? & ?? & ?? & ?? & ?? & ?? \\\\\n",
        "?? & ?? & ?? & ?? & ?? & ?? \\\\\n",
        "?? & ?? & ?? & ?? & ?? & ?? \\\\\n",
        "\\end{bmatrix}$$\n",
        "\n",
        "<br>\n",
        "\n",
        "<font color=\"mediumseagreen\">Hint: For more details on typing a matrix in LaTeX, see the section [Entering Matrices with `bmatrix`](https://colab.research.google.com/drive/1voDDmLfHmRWzWQW5yiHfqYsjGPFqdovP) in the LaTeX-Quick-Reference.ipynb notebook.</font>"
      ]
    },
    {
      "cell_type": "markdown",
      "metadata": {
        "id": "LO0MZdmzkL94"
      },
      "source": [
        "## <a name=\"hw3q3b\">Question 3b</a>\n",
        "\n",
        "---\n",
        "\n",
        "Enter the augmented matrix $M$ from [Question 3a](#hw3sol3a) in the code cell below."
      ]
    },
    {
      "cell_type": "markdown",
      "metadata": {
        "id": "aU_dokoTki0s"
      },
      "source": [
        "### <a name=\"hw1sol3b\">Solution to Question 3b</a>\n",
        "\n",
        "---\n",
        "\n",
        "Replace each `??` in the code cell below to enter and print the augmented matrix $M$.\n",
        "\n",
        "<br>\n",
        "\n",
        "<font color=\"tomato\">CAUTION: Be sure you have already imported the SymPy package.</color>\n",
        "-  If are starting a new session, be sure to run the command `import sympy as sym` in the code cell in [Question 2](#hw1q2) before editing and running the code cell below\n",
        "\n",
        "<br>\n",
        "\n",
        "<font color=\"mediumseagreen\">Hint: For more details on entering a matrix with SymPy, see the section [Creating a Matrix with `sympy.Matrix`](https://colab.research.google.com/drive/1HjrtnVfoV3SPei4UXmqEsXMONsX5pyOs) in the Getting-Started-Colab-Python.ipynb notebook or inspect the code from [Question 2](#hw1q2).</font>\n"
      ]
    },
    {
      "cell_type": "code",
      "execution_count": null,
      "metadata": {
        "id": "9VY09PBSfvI9"
      },
      "outputs": [],
      "source": [
        "M = sym.Matrix([[??, ??, ??, ??, ??, ??],  # enter row 1\n",
        "                [??, ??, ??, ??, ??, ??],  # enter row 2\n",
        "                [??, ??, ??, ??, ??, ??]])    # enter row 3\n",
        "\n",
        "M  # prints matrix to screen"
      ]
    },
    {
      "cell_type": "markdown",
      "metadata": {
        "id": "-cNIa0rim9sm"
      },
      "source": [
        "## <a name=\"hw1q3c\">Question 3c</a>\n",
        "\n",
        "---\n",
        "\n",
        "The `rref()` function in the `SymPy` package finds the reduced row echelon form of a matrix. The output consists of two things:\n",
        "\n",
        "- First is the reduced row echelon form of the matrix.\n",
        "- Second is a tuple of indices of the pivot columns.\n",
        "- Based on the output below, you should see that:\n",
        "  - Columns with Python indices 0, 1, and 4 have pivots.\n",
        "  - Thus, columns 1, 2, and 5 of matrix $M$ have pivots (recall Python indexing starts at 0).\n",
        "\n",
        "Below, we apply the `rref` function to matrix `M` you stored in the previous code cell. **Based on the output of the code cell below, describe the solution set of the system of equations in [Question 3](#hw1q3).**"
      ]
    },
    {
      "cell_type": "code",
      "execution_count": null,
      "metadata": {
        "id": "aL2LoTmcnNZa"
      },
      "outputs": [],
      "source": [
        "# find the reduced row echelon form of matrix M\n",
        "M.rref(u)"
      ]
    },
    {
      "cell_type": "markdown",
      "metadata": {
        "id": "NbbewDhMpEyb"
      },
      "source": [
        "### <a name=\"hw1sol3c\">Solution to Question 3c</a>\n",
        "\n",
        "---\n",
        "\n",
        "Based on the output of the code cell above, describe the solution set of the system of equations in [Question 3](#hw1q3). Enter your answer by completing the LaTeX code below.\n",
        "\n",
        "<br>\n",
        "\n",
        "#### Solution Set:\n",
        "\n",
        "---\n",
        "\n",
        "Since there are pivots in matrix columns 1, 2, and 5, the variables $x_1$, $x_2$, and $x_5$ are *basic variables* while $x_3$ and $x_4$ are *free variables*. Thus, we have\n",
        "\n",
        "$$x_1 = ??$$\n",
        "\n",
        "$$x_2 = ??$$\n",
        "\n",
        "$$x_3 = \\text{free} $$\n",
        "\n",
        "$$x_4 = \\text{free} $$\n",
        "\n",
        "and\n",
        "\n",
        "$$x_5 = ??$$\n",
        "\n",
        "\n"
      ]
    },
    {
      "cell_type": "markdown",
      "metadata": {
        "id": "_Tfsexyet0Yl"
      },
      "source": [
        "# <a name=\"hw1q4\">Question 4</a>\n",
        "\n",
        "---\n",
        "\n",
        "Use the `rref()` function to find the reduced row echelon form the matrix $B$ given below.\n",
        "\n",
        "$$B = \\begin{bmatrix}\n",
        "8 & 11 & -6 & -7 & 13\\\\\n",
        "-7 & -8 & 5 & 6 & 9\\\\\n",
        "11 & 7 & -7 & -9 & -6\\\\\n",
        "-3 & 4 & 1 & 8 & 7\n",
        "\\end{bmatrix}.$$\n",
        "\n"
      ]
    },
    {
      "cell_type": "markdown",
      "metadata": {
        "id": "BZD9Go5yurMY"
      },
      "source": [
        "## <a name=\"hw1q4\">Solution to Question 4</a>\n",
        "\n",
        "---\n",
        "\n",
        "Use the code cell below to answer this question. Replace each `??` with an appropriate Python command.\n"
      ]
    },
    {
      "cell_type": "code",
      "execution_count": null,
      "metadata": {
        "id": "wk1oRCBMtvdb"
      },
      "outputs": [],
      "source": [
        "# use code cell to answer question 4\n",
        "import sympy as sym  # this ensures you have imported sympy\n",
        "\n",
        "# enter matrix B using sym.Matrix()\n",
        "B = ??\n",
        "\n",
        "# enter a Python command to find the reduced row echelon form of B\n",
        "??\n"
      ]
    }
  ],
  "metadata": {
    "colab": {
      "provenance": [],
      "include_colab_link": true
    },
    "kernelspec": {
      "display_name": "Python 3 (ipykernel)",
      "language": "python",
      "name": "python3"
    },
    "language_info": {
      "codemirror_mode": {
        "name": "ipython",
        "version": 3
      },
      "file_extension": ".py",
      "mimetype": "text/x-python",
      "name": "python",
      "nbconvert_exporter": "python",
      "pygments_lexer": "ipython3",
      "version": "3.13.1"
    }
  },
  "nbformat": 4,
  "nbformat_minor": 0
}